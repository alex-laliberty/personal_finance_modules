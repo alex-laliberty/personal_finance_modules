{
 "cells": [
  {
   "cell_type": "code",
   "execution_count": 4,
   "id": "524dc6d0",
   "metadata": {},
   "outputs": [
    {
     "name": "stdout",
     "output_type": "stream",
     "text": [
      "Total number of transactions: 9\n"
     ]
    },
    {
     "name": "stdout",
     "output_type": "stream",
     "text": [
      "Please enter amount as a positive number.\n",
      "{'transaction_id': 10, 'date': '2025-12-25', 'customer_id': '1234', 'amount': '1500', 'type': 'debit', 'description': 'a memo here'}\n"
     ]
    }
   ],
   "source": [
    "import csv\n",
    "from datetime import datetime\n",
    "\n",
    "def load_transactions(filename=\"fin_tran_test.csv:\"):\n",
    "    transactions = []\n",
    "    try:\n",
    "        with open(\"fin_tran_test.csv\", \"r\") as my_file:\n",
    "            reader = csv.DictReader(my_file)\n",
    "            \n",
    "            for row in reader:\n",
    "                # Parsing datetime\n",
    "                date_string = row[\"date\"]\n",
    "                date_format = \"%Y-%m-%d\"\n",
    "                try:\n",
    "                    datetime.strptime(date_string, date_format)\n",
    "                except ValueError as datetime_error:\n",
    "                    print(f\"Skipping transaction {row[\"transaction_id\"]} because the date {row[\"date\"]} is entered incorrectly.\")\n",
    "                    print(f\"Please reenter date in the following format: YYYY-MM-DD\")\n",
    "                    with open(\"errors.txt\", \"a\") as my_file:\n",
    "                        my_file.write(f\"{datetime_error}\\n\")\n",
    "                    continue\n",
    "                # Changing transaction_id,customer_id, amount keys to int/float values\n",
    "                row[\"transaction_id\"] = int(row[\"transaction_id\"])\n",
    "                row[\"customer_id\"] = int(row[\"customer_id\"])    \n",
    "                row[\"amount\"] = float(row[\"amount\"])\n",
    "                # Changing debit type transaction amounts to negative numbers\n",
    "                try:\n",
    "                    if row[\"amount\"] < 0:\n",
    "                        raise ValueError(f\"The absolute value of the transaction must be entered for the 'amount': {row[\"amount\"]}\")\n",
    "                    if row[\"type\"] == \"debit\":\n",
    "                        row[\"amount\"] *= -1\n",
    "                except ValueError as transaction_value_error:\n",
    "                    print(f\"Skipping transaction {row[\"transaction_id\"]} because the transaction amount ({row[\"amount\"]}) must be positive.\")\n",
    "                    print(\"Please reenter the amount as a positive value\")\n",
    "                    with open(\"errors.txt\", \"a\") as my_file:\n",
    "                        my_file.write(f\"{transaction_value_error}\\n\")\n",
    "                    continue\n",
    "                # Adding each transaction dictionary to a list\n",
    "                transactions.append(row)\n",
    "        # Returning the list with the function load_transactions\n",
    "        return transactions\n",
    "    \n",
    "    except FileNotFoundError:\n",
    "        return \"File not found.\"\n",
    "    \n",
    "def add_transaction():\n",
    "    new_transaction = {}\n",
    "    new_transaction[\"transaction_id\"] = (load_transactions()[-1][\"transaction_id\"]+1)\n",
    "\n",
    "    while True:\n",
    "        try:\n",
    "            new_transaction[\"date\"] = input(\"Enter transaction date (YYYY-MM-DD): \")\n",
    "            datetime.strptime(new_transaction[\"date\"], \"%Y-%m-%d\")\n",
    "            break\n",
    "        except ValueError:\n",
    "            print(\"Dates must be entered in the format YYYY-MM-DD.\")\n",
    "    \n",
    "    new_transaction[\"customer_id\"] = input(\"Enter customer ID: \") \n",
    "    \n",
    "    while True:\n",
    "        try:\n",
    "            new_transaction[\"amount\"] = input(\"Enter transaction amount: \")\n",
    "            if float(new_transaction[\"amount\"]) < 0:\n",
    "                raise ValueError\n",
    "            else:\n",
    "                break\n",
    "        except ValueError:\n",
    "            print(\"Please enter amount as a positive number.\")\n",
    "    \n",
    "    new_transaction[\"type\"] = input(\"Enter transaction type (debit/credit/transfer): \")\n",
    "    new_transaction[\"description\"] = input(\"Enter a transaction memo: \")\n",
    "    \n",
    "    return new_transaction\n",
    "    print(\"Transaction added!\")\n",
    "\n",
    "def view_transactions():\n",
    "    pass\n",
    "\n",
    "if __name__ == \"__main__\":\n",
    "    print(f\"Total number of transactions: {len(load_transactions())}\")\n",
    "    new_transaction = add_transaction()\n",
    "    print(new_transaction)\n",
    "    "
   ]
  }
 ],
 "metadata": {
  "kernelspec": {
   "display_name": "Python 3",
   "language": "python",
   "name": "python3"
  },
  "language_info": {
   "codemirror_mode": {
    "name": "ipython",
    "version": 3
   },
   "file_extension": ".py",
   "mimetype": "text/x-python",
   "name": "python",
   "nbconvert_exporter": "python",
   "pygments_lexer": "ipython3",
   "version": "3.13.2"
  }
 },
 "nbformat": 4,
 "nbformat_minor": 5
}
